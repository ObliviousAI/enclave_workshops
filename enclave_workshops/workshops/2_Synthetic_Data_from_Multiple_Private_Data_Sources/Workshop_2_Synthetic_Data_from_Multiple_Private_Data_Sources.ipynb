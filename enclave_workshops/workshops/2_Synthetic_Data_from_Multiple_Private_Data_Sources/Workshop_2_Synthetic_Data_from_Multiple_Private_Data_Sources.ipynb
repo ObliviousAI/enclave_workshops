{
  "nbformat": 4,
  "nbformat_minor": 0,
  "metadata": {
    "colab": {
      "name": "Workshop 2: Synthetic Data from Multiple Private Data Sources",
      "provenance": [],
      "collapsed_sections": [],
      "authorship_tag": "ABX9TyOGLjc4Ap17RnG0IKuagnZl",
      "include_colab_link": true
    },
    "kernelspec": {
      "name": "python3",
      "display_name": "Python 3"
    },
    "language_info": {
      "name": "python"
    }
  },
  "cells": [
    {
      "cell_type": "markdown",
      "metadata": {
        "id": "view-in-github",
        "colab_type": "text"
      },
      "source": [
        "<a href=\"https://colab.research.google.com/github/ObliviousAI/enclave_workshops/blob/master/enclave_workshops/workshops/2_Synthetic_Data_from_Multiple_Private_Data_Sources/Workshop_2_Synthetic_Data_from_Multiple_Private_Data_Sources.ipynb\" target=\"_parent\"><img src=\"https://colab.research.google.com/assets/colab-badge.svg\" alt=\"Open In Colab\"/></a>"
      ]
    },
    {
      "cell_type": "markdown",
      "source": [
        "# Workshop 2: Synthetic Data from Multiple Private Data Sources\n",
        "\n",
        "This can all be done form your local machine, but for easy reproducibility we'll user a Google Colab.\n",
        "\n",
        "### Step 1: Install the oblv proxy"
      ],
      "metadata": {
        "id": "YnuMtX0u5Ptt"
      }
    },
    {
      "cell_type": "code",
      "source": [
        "%%bash\n",
        "# downlaod the OBLV CLI package for Linux \n",
        "wget https://oblv-cli-binary.s3.us-east-2.amazonaws.com/0.3.0/oblv-ccli-0.3.0-x86_64-unknown-linux-musl.zip\n",
        "# unzip it\n",
        "unzip oblv-ccli-0.3.0-x86_64-unknown-linux-musl.zip\n",
        "# cd to the folder where binary is present\n",
        "cd oblv-ccli-0.3.0-x86_64-unknown-linux-musl/\n",
        "# update execute permissions for the binary\n",
        "chmod +x $(pwd)/oblv\n",
        "# create symlink\n",
        "sudo ln -s $(pwd)/oblv /usr/local/bin/oblv"
      ],
      "metadata": {
        "id": "rScnaDPG5fGM"
      },
      "execution_count": null,
      "outputs": []
    },
    {
      "cell_type": "markdown",
      "source": [
        "### Step 2.a: Create Keys for Alice and Bob (Skip if using example keys provided in the workshop)"
      ],
      "metadata": {
        "id": "VXZ3B-dVtqQU"
      }
    },
    {
      "cell_type": "code",
      "source": [
        "!oblv keygen --key-name alice --output /content/"
      ],
      "metadata": {
        "id": "kpdSDrz-5wkX"
      },
      "execution_count": null,
      "outputs": []
    },
    {
      "cell_type": "code",
      "source": [
        "!oblv keygen --key-name bob --output /content/"
      ],
      "metadata": {
        "id": "-KzwubE859vZ"
      },
      "execution_count": null,
      "outputs": []
    },
    {
      "cell_type": "markdown",
      "source": [
        "### Step 2.b: Load in the public/private example keys from GitHub"
      ],
      "metadata": {
        "id": "09OmrwLiuCoS"
      }
    },
    {
      "cell_type": "code",
      "source": [
        "import base64\n",
        "import requests\n",
        "\n",
        "files = [\n",
        "    \"workshops/2_Synthetic_Data_from_Multiple_Private_Data_Sources/alice_private.cer\",\n",
        "    \"workshops/2_Synthetic_Data_from_Multiple_Private_Data_Sources/alice_public.cer\",\n",
        "    \"workshops/2_Synthetic_Data_from_Multiple_Private_Data_Sources/bob_private.cer\",\n",
        "    \"workshops/2_Synthetic_Data_from_Multiple_Private_Data_Sources/bob_public.cer\"\n",
        "]\n",
        "\n",
        "for file_name in files:\n",
        "  url = 'https://raw.githubusercontent.com/ObliviousAI/enclave_workshops/master/'+file_name\n",
        "  req = requests.get(url)\n",
        "  if req.status_code == requests.codes.ok:\n",
        "      file_to_save = file_name.split('/')[-1]\n",
        "\n",
        "      with open('/content/' + file_to_save, 'wb') as file:\n",
        "        file.write(req.content)\n",
        "  else:\n",
        "      print('Content was not found.')"
      ],
      "metadata": {
        "id": "oolZXaVpvYvB"
      },
      "execution_count": null,
      "outputs": []
    },
    {
      "cell_type": "markdown",
      "source": [
        "### Step 3: Create a secure enclave connection from the localhost (in Google Colab) to the desired enclave"
      ],
      "metadata": {
        "id": "lsF9hjgIuPQh"
      }
    },
    {
      "cell_type": "code",
      "source": [
        "%%script bash --bg\n",
        "\n",
        "oblv connect \\\n",
        "--pcr0 29f5474040db784ec31cbc9f3a77ba54fbaf00743bda9d228b703f28885095707e66f02a3655860d6362ee4fd66672a4 \\\n",
        "--pcr1 bcdf05fefccaa8e55bf2c8d6dee9e79bbff31e34bf28a99aa19e6b29c37ee80b214a414b7607236edf26fcb78654e63f \\\n",
        "--pcr2 fcdd286368b8e2978a004b642782f740094456ffc2a1742ac299a404576f7c655959f7e5f4f436ba9fbb2711d93bc4d8 \\\n",
        "--private-key \"/content/alice_private.der\" \\\n",
        "--public-key \"/content/alice_public.der\" \\\n",
        "--url https://oblv-appli-1d4gv4nsdw743-1233300661.enclave.oblivious.ai/ \\\n",
        "--port 443 --lport 3030 "
      ],
      "metadata": {
        "id": "GhBdfx1j6Cyp"
      },
      "execution_count": null,
      "outputs": []
    },
    {
      "cell_type": "code",
      "source": [
        "%%script bash --bg\n",
        "\n",
        "oblv connect \\\n",
        "--pcr0 29f5474040db784ec31cbc9f3a77ba54fbaf00743bda9d228b703f28885095707e66f02a3655860d6362ee4fd66672a4 \\\n",
        "--pcr1 bcdf05fefccaa8e55bf2c8d6dee9e79bbff31e34bf28a99aa19e6b29c37ee80b214a414b7607236edf26fcb78654e63f \\\n",
        "--pcr2 fcdd286368b8e2978a004b642782f740094456ffc2a1742ac299a404576f7c655959f7e5f4f436ba9fbb2711d93bc4d8 \\\n",
        "--private-key \"/content/bob_private.der\" \\\n",
        "--public-key \"/content/bob_public.der\" \\\n",
        "--url https://oblv-appli-1d4gv4nsdw743-1233300661.enclave.oblivious.ai/ \\\n",
        "--port 443 --lport 3031 "
      ],
      "metadata": {
        "id": "N-y234o18omH",
        "collapsed": true
      },
      "execution_count": null,
      "outputs": []
    },
    {
      "cell_type": "markdown",
      "source": [
        "### Step 4: Interact with the enclave by sending traffic to the localhost on the port specified"
      ],
      "metadata": {
        "id": "KS6DHlcIuq06"
      }
    },
    {
      "cell_type": "code",
      "source": [
        "import base64\n",
        "import requests\n",
        "\n",
        "files = [\n",
        "    \"tests/example_data/alice.csv\",\n",
        "    \"tests/example_data/bob.csv\"\n",
        "]\n",
        "\n",
        "for file_name in files:\n",
        "  url = 'https://raw.githubusercontent.com/oblivious-demo/oblv-smartnoise/master/'+file_name\n",
        "  req = requests.get(url)\n",
        "  if req.status_code == requests.codes.ok:\n",
        "      file_to_save = file_name.split('/')[-1]\n",
        "\n",
        "      with open('/content/' + file_to_save, 'wb') as file:\n",
        "        file.write(req.content)\n",
        "  else:\n",
        "      print('Content was not found.')"
      ],
      "metadata": {
        "id": "-SdihseQ2745"
      },
      "execution_count": null,
      "outputs": []
    },
    {
      "cell_type": "code",
      "source": [
        "import requests\n",
        "import json\n",
        "\n",
        "ALICE_PROXY = \"http://localhost:3030\"\n",
        "BOB_PROXY = \"http://localhost:3031\""
      ],
      "metadata": {
        "id": "i_JvWwFB9vEd"
      },
      "execution_count": null,
      "outputs": []
    },
    {
      "cell_type": "code",
      "source": [
        "r = requests.get(ALICE_PROXY+\"/details\")\n",
        "\n",
        "print(json.loads(r.content))"
      ],
      "metadata": {
        "id": "7EbwSwlp967s"
      },
      "execution_count": null,
      "outputs": []
    },
    {
      "cell_type": "code",
      "source": [
        "r = requests.post(ALICE_PROXY+\"/upload_data\", files={\"file\": open(\"/content/alice.csv\", 'rb')})\n",
        "\n",
        "print(json.loads(r.content))"
      ],
      "metadata": {
        "id": "xhhhaIvD-Uho"
      },
      "execution_count": null,
      "outputs": []
    },
    {
      "cell_type": "code",
      "source": [
        "r = requests.post(BOB_PROXY+\"/upload_data\", files={\"file\": open(\"/content/bob.csv\", 'rb')})\n",
        "\n",
        "print(json.loads(r.content))"
      ],
      "metadata": {
        "id": "QI73thIB-l99"
      },
      "execution_count": null,
      "outputs": []
    },
    {
      "cell_type": "code",
      "source": [
        "r = requests.get(ALICE_PROXY+\"/confirm_data\")\n",
        "\n",
        "print(json.loads(r.content))"
      ],
      "metadata": {
        "id": "NZ_ss9HG-oPg"
      },
      "execution_count": null,
      "outputs": []
    },
    {
      "cell_type": "code",
      "source": [
        "r = requests.get(BOB_PROXY+\"/confirm_data\")\n",
        "\n",
        "print(json.loads(r.content))"
      ],
      "metadata": {
        "id": "7fr2yvld_KMU"
      },
      "execution_count": null,
      "outputs": []
    },
    {
      "cell_type": "code",
      "source": [
        "r = requests.get(ALICE_PROXY+\"/formats\")\n",
        "\n",
        "print(json.loads(r.content))"
      ],
      "metadata": {
        "id": "nAJVLp7NCrGI"
      },
      "execution_count": null,
      "outputs": []
    },
    {
      "cell_type": "code",
      "source": [
        "r = requests.get(ALICE_PROXY+\"/columns\", params={\"party\": \"mine\"})\n",
        "\n",
        "print(json.loads(r.content))"
      ],
      "metadata": {
        "id": "YbG_l1rqC_nJ"
      },
      "execution_count": null,
      "outputs": []
    },
    {
      "cell_type": "code",
      "source": [
        "r = requests.get(ALICE_PROXY+\"/columns\", params={\"party\": \"theirs\"})\n",
        "\n",
        "print(json.loads(r.content))"
      ],
      "metadata": {
        "id": "GpU57jFk0_r6"
      },
      "execution_count": null,
      "outputs": []
    },
    {
      "cell_type": "code",
      "source": [
        "r = requests.get(ALICE_PROXY+\"/samples\", params={\"format\": \"csv\", \"num_samples\":100})\n",
        "\n",
        "result_file = \"/content/output.csv\"\n",
        "\n",
        "open(result_file, 'wb').write(r.content)\n"
      ],
      "metadata": {
        "id": "vm7zxdZj6Cun"
      },
      "execution_count": null,
      "outputs": []
    },
    {
      "cell_type": "code",
      "source": [
        "import pandas as pd\n",
        "\n",
        "df = pd.read_csv(\"/content/output.csv\")\n",
        "\n",
        "df.head()"
      ],
      "metadata": {
        "id": "fkcjBqTT6snz"
      },
      "execution_count": null,
      "outputs": []
    }
  ]
}