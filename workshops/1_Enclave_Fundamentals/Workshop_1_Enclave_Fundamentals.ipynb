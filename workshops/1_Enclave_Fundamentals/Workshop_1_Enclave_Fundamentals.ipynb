{
  "nbformat": 4,
  "nbformat_minor": 0,
  "metadata": {
    "colab": {
      "name": "Workshop 1: Enclave Fundamentals",
      "provenance": [],
      "authorship_tag": "ABX9TyMc50OmpSIDQbqI8RBChjaE",
      "include_colab_link": true
    },
    "kernelspec": {
      "name": "python3",
      "display_name": "Python 3"
    },
    "language_info": {
      "name": "python"
    }
  },
  "cells": [
    {
      "cell_type": "markdown",
      "metadata": {
        "id": "view-in-github",
        "colab_type": "text"
      },
      "source": [
        "<a href=\"https://colab.research.google.com/github/ObliviousAI/enclave_workshops/blob/master/workshops/1_Enclave_Fundamentals/Workshop_1_Enclave_Fundamentals.ipynb\" target=\"_parent\"><img src=\"https://colab.research.google.com/assets/colab-badge.svg\" alt=\"Open In Colab\"/></a>"
      ]
    },
    {
      "cell_type": "markdown",
      "source": [
        "# Workshop 1: Enclave Fundamentals\n",
        "\n",
        "This can all be dono on your local machine, but for easy reproducibility we'll user a Google Colab.\n",
        "\n",
        "### Step 1: Install the oblv proxy"
      ],
      "metadata": {
        "id": "YnuMtX0u5Ptt"
      }
    },
    {
      "cell_type": "code",
      "source": [
        "%%bash\n",
        "# downlaod the OBLV CLI package for Linux \n",
        "wget https://oblv-cli-binary.s3.us-east-2.amazonaws.com/0.3.0/oblv-ccli-0.3.0-x86_64-unknown-linux-musl.zip\n",
        "# unzip it\n",
        "unzip oblv-ccli-0.3.0-x86_64-unknown-linux-musl.zip\n",
        "# cd to the folder where binary is present\n",
        "cd oblv-ccli-0.3.0-x86_64-unknown-linux-musl/\n",
        "# update execute permissions for the binary\n",
        "chmod +x $(pwd)/oblv\n",
        "# create symlink\n",
        "sudo ln -s $(pwd)/oblv /usr/local/bin/oblv"
      ],
      "metadata": {
        "id": "rScnaDPG5fGM"
      },
      "execution_count": null,
      "outputs": []
    },
    {
      "cell_type": "markdown",
      "source": [
        "### Step 2.a: Create Keys for Alice and Bob (Skip if using example keys provided in the workshop)"
      ],
      "metadata": {
        "id": "VXZ3B-dVtqQU"
      }
    },
    {
      "cell_type": "code",
      "source": [
        "!oblv keygen --key-name alice --output /content/"
      ],
      "metadata": {
        "id": "kpdSDrz-5wkX"
      },
      "execution_count": null,
      "outputs": []
    },
    {
      "cell_type": "code",
      "source": [
        "!oblv keygen --key-name bob --output /content/"
      ],
      "metadata": {
        "id": "-KzwubE859vZ"
      },
      "execution_count": null,
      "outputs": []
    },
    {
      "cell_type": "markdown",
      "source": [
        "### Step 2.b: Load in the public/private example keys from GitHub"
      ],
      "metadata": {
        "id": "09OmrwLiuCoS"
      }
    },
    {
      "cell_type": "code",
      "source": [
        "import base64\n",
        "import requests\n",
        "\n",
        "files = [\n",
        "    \"workshops/1_Enclave_Fundamentals/alice_private.cer\",\n",
        "    \"workshops/1_Enclave_Fundamentals/alice_public.cer\",\n",
        "    \"workshops/1_Enclave_Fundamentals/bob_private.cer\",\n",
        "    \"workshops/1_Enclave_Fundamentals/bob_public.cer\"\n",
        "]\n",
        "\n",
        "for file_name in files:\n",
        "  url = 'https://raw.githubusercontent.com/ObliviousAI/enclave_workshops/master/'+file_name\n",
        "  req = requests.get(url)\n",
        "  if req.status_code == requests.codes.ok:\n",
        "      file_to_save = file_name.split('/')[-1]\n",
        "\n",
        "      with open('/content/' + file_to_save, 'wb') as file:\n",
        "        file.write(req.content)\n",
        "  else:\n",
        "      print('Content was not found.')"
      ],
      "metadata": {
        "id": "oolZXaVpvYvB"
      },
      "execution_count": null,
      "outputs": []
    },
    {
      "cell_type": "markdown",
      "source": [
        "### Step 3: Create a secure enclave connection from the localhost (in Google Colab) to the desired enclave"
      ],
      "metadata": {
        "id": "lsF9hjgIuPQh"
      }
    },
    {
      "cell_type": "code",
      "source": [
        "%%script bash --bg\n",
        "oblv connect \\\n",
        "--pcr0 43bd1391d6441fbbe437376fb95ed54061c296d42adf87dc21f5a1f20bc6333865ada371051f5ba098cb98b27037160b \\\n",
        "--pcr1 bcdf05fefccaa8e55bf2c8d6dee9e79bbff31e34bf28a99aa19e6b29c37ee80b214a414b7607236edf26fcb78654e63f \\\n",
        "--pcr2 0856cfa6d9935f092484c0aac705e3a5c9c7fcf79335e852cc5d9948d2265e82f0da89e7b757e65c62a9b34f7920e42d \\\n",
        "--private-key \"/content/alice_private.cer\" \\\n",
        "--public-key \"/content/alice_public.cer\" \\\n",
        "--url https://conso-appli-1ezgzeuvtvlbe-309102335.enclave.oblivious.ai \\\n",
        "--port 443 --lport 3030 "
      ],
      "metadata": {
        "id": "GhBdfx1j6Cyp"
      },
      "execution_count": null,
      "outputs": []
    },
    {
      "cell_type": "code",
      "source": [
        "%%script bash --bg\n",
        "\n",
        "oblv connect \\\n",
        "--pcr0 43bd1391d6441fbbe437376fb95ed54061c296d42adf87dc21f5a1f20bc6333865ada371051f5ba098cb98b27037160b \\\n",
        "--pcr1 bcdf05fefccaa8e55bf2c8d6dee9e79bbff31e34bf28a99aa19e6b29c37ee80b214a414b7607236edf26fcb78654e63f \\\n",
        "--pcr2 0856cfa6d9935f092484c0aac705e3a5c9c7fcf79335e852cc5d9948d2265e82f0da89e7b757e65c62a9b34f7920e42d \\\n",
        "--private-key \"/content/bob_private.cer\" \\\n",
        "--public-key \"/content/bob_public.cer\" \\\n",
        "--url https://conso-appli-1ezgzeuvtvlbe-309102335.enclave.oblivious.ai \\\n",
        "--port 443 --lport 3031 "
      ],
      "metadata": {
        "id": "N-y234o18omH",
        "collapsed": true
      },
      "execution_count": null,
      "outputs": []
    },
    {
      "cell_type": "markdown",
      "source": [
        "### Step 4: Interact with the enclave by sending traffic to the localhost on the port specified"
      ],
      "metadata": {
        "id": "KS6DHlcIuq06"
      }
    },
    {
      "cell_type": "code",
      "source": [
        "import requests\n",
        "import json\n",
        "\n",
        "ALICE_PROXY = \"http://localhost:3030\"\n",
        "BOB_PROXY = \"http://localhost:3031\""
      ],
      "metadata": {
        "id": "i_JvWwFB9vEd"
      },
      "execution_count": null,
      "outputs": []
    },
    {
      "cell_type": "code",
      "source": [
        "r = requests.get(ALICE_PROXY+\"/hello\")\n",
        "\n",
        "print(json.loads(r.content))"
      ],
      "metadata": {
        "id": "7EbwSwlp967s"
      },
      "execution_count": null,
      "outputs": []
    },
    {
      "cell_type": "code",
      "source": [
        "r = requests.get(ALICE_PROXY+\"/settings\")\n",
        "\n",
        "print(json.dumps(json.loads(r.content), indent=4))"
      ],
      "metadata": {
        "id": "zudhQa9c-Aws"
      },
      "execution_count": null,
      "outputs": []
    },
    {
      "cell_type": "code",
      "source": [
        "r = requests.get(ALICE_PROXY+\"/call\", params={\"url\": \"https://example.com\"})\n",
        "\n",
        "print(json.loads(r.content))"
      ],
      "metadata": {
        "id": "xhhhaIvD-Uho"
      },
      "execution_count": null,
      "outputs": []
    },
    {
      "cell_type": "code",
      "source": [
        "r = requests.get(ALICE_PROXY+\"/call\", params={\"url\": \"http://bad_example.com\"})\n",
        "\n",
        "print(json.loads(r.content))"
      ],
      "metadata": {
        "id": "QI73thIB-l99"
      },
      "execution_count": null,
      "outputs": []
    },
    {
      "cell_type": "code",
      "source": [
        "r = requests.get(ALICE_PROXY+\"/submit_value\", params={\"value\": 5})\n",
        "\n",
        "print(json.loads(r.content))"
      ],
      "metadata": {
        "id": "NZ_ss9HG-oPg"
      },
      "execution_count": null,
      "outputs": []
    },
    {
      "cell_type": "code",
      "source": [
        "r = requests.get(BOB_PROXY+\"/submit_value\", params={\"value\": 6})\n",
        "\n",
        "print(json.loads(r.content))"
      ],
      "metadata": {
        "id": "7fr2yvld_KMU"
      },
      "execution_count": null,
      "outputs": []
    },
    {
      "cell_type": "code",
      "source": [
        "r = requests.get(ALICE_PROXY+\"/compare\")\n",
        "\n",
        "print(json.loads(r.content))"
      ],
      "metadata": {
        "id": "nAJVLp7NCrGI"
      },
      "execution_count": null,
      "outputs": []
    },
    {
      "cell_type": "code",
      "source": [
        ""
      ],
      "metadata": {
        "id": "YbG_l1rqC_nJ"
      },
      "execution_count": null,
      "outputs": []
    },
    {
      "cell_type": "code",
      "source": [
        ""
      ],
      "metadata": {
        "id": "GpU57jFk0_r6"
      },
      "execution_count": null,
      "outputs": []
    }
  ]
}